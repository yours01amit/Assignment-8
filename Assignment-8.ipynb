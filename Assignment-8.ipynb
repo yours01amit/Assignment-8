{
 "cells": [
  {
   "cell_type": "markdown",
   "id": "d1e5669e",
   "metadata": {},
   "source": [
    "Q1. What is Abstraction in OOps? Explain with an example.\n",
    "\n",
    "Ans: Abstraction is the process of hiding the internal details of an application from the outer world.\n",
    "     Abstraction is used to describe things in simple terms.\n",
    "     It is used to create a boundary between the application and the client programs.\n",
    "     This is one of the core concepts of OOPs languages that enables the user to implement even more compex logic on top of the provided abstraction without understand or even thinking about all the hidden backgraound / back-end complexity.\n",
    "\n"
   ]
  },
  {
   "cell_type": "code",
   "execution_count": 2,
   "id": "0786a115",
   "metadata": {},
   "outputs": [
    {
     "name": "stdout",
     "output_type": "stream",
     "text": [
      "The speed is 100 kmph\n",
      "The speed is 80 kmph\n",
      "The speed is 150 kmph\n",
      "The speed is 120 kmph\n"
     ]
    }
   ],
   "source": [
    "# Example of Abstraction \n",
    "\n",
    "from abc import ABC, abstractmethod\n",
    "\n",
    "class car(ABC):\n",
    "    def speed(self):\n",
    "        pass\n",
    "    \n",
    "class Hyundai(car):\n",
    "    def speed(self):\n",
    "        print(\"The speed is 100 kmph\")\n",
    "        \n",
    "class suzuki(car):\n",
    "    def speed(self):\n",
    "        print(\"The speed is 80 kmph\")\n",
    "        \n",
    "class BMW(car):\n",
    "    def speed(self):\n",
    "        print(\"The speed is 150 kmph\")\n",
    "        \n",
    "class Honda(car):\n",
    "    def speed(self):\n",
    "        print(\"The speed is 120 kmph\")\n",
    "        \n",
    "        \n",
    "        \n",
    "h = Hyundai()\n",
    "h.speed()\n",
    "\n",
    "s = suzuki()\n",
    "s.speed()\n",
    "\n",
    "b = BMW()\n",
    "b.speed()\n",
    "\n",
    "ho = Honda()\n",
    "ho.speed()"
   ]
  },
  {
   "cell_type": "markdown",
   "id": "f502cfaa",
   "metadata": {},
   "source": [
    "Q2. Differentiate between Abstraction and Encapsulation. Explain with an example.\n",
    "\n",
    "Ans: Abstraction and Encapsulation are two important concepts in object oriented programming that are often used together but they have distinct meanings and purposes.\n",
    "\n",
    "here are the defferences: \n",
    "\n",
    "Abstraction:\n",
    "Abstraction refers to the process of reducing complex and detailed information to its essential features. It allows us to focus on the relevant aspects of an object and ignore the irrelevant details. In object-oriented programming, abstraction is achieved through the use of abstract classes and interfaces. Abstract classes provide a template for creating concrete classes by defining a set of common behaviors or properties that subclasses must implement. Interfaces define a set of methods that must be implemented by any class that implements the interface. Abstraction is useful for managing complexity, improving modularity, and promoting code reuse.\n",
    "\n",
    "Encapsulation:\n",
    "Encapsulation refers to the practice of hiding the internal details of an object from the outside world, and providing a well-defined interface for interacting with the object. Encapsulation is achieved by using access modifiers such as public, private, and protected to control the visibility of the object's properties and methods. By hiding the implementation details of an object, encapsulation provides several benefits such as better security, modularity, and flexibility. Encapsulation also helps to prevent external code from modifying the internal state of an object directly, which can help to prevent bugs and other issues."
   ]
  },
  {
   "cell_type": "code",
   "execution_count": 9,
   "id": "153ba12c",
   "metadata": {},
   "outputs": [
    {
     "name": "stdout",
     "output_type": "stream",
     "text": [
      "Driving the Honda city\n",
      "7000\n",
      "False\n",
      "True\n",
      "5000\n"
     ]
    }
   ],
   "source": [
    "# Example of abstraction\n",
    "\n",
    "class car:\n",
    "    def __init__(self, make, model, year):\n",
    "        self.make = make\n",
    "        self.model = model\n",
    "        self.year = year\n",
    "        \n",
    "    def drive(self):\n",
    "        print(f\"Driving the {self.make} {self.model}\")\n",
    "        \n",
    "my__car = car(\"Honda\", \"city\", 2023)\n",
    "my__car.drive()\n",
    "\n",
    "\n",
    "# Example of Encapsulation \n",
    "class bank_account:\n",
    "    def __init__(self, balance):\n",
    "        self.__balance = balance\n",
    "\n",
    "    def deposite(self, amount):\n",
    "        self.__balance = self.__balance + amount\n",
    "    \n",
    "    def withdraw(self, amount):\n",
    "        if self.__balance >= amount:\n",
    "            self.__balance = self.__balance - amount\n",
    "            return True\n",
    "        else:\n",
    "            return False\n",
    "\n",
    "    def get_balance(self):\n",
    "        return self.__balance\n",
    "\n",
    "\n",
    "Amit = bank_account(1000)\n",
    "\n",
    "Amit.deposite(5000)\n",
    "\n",
    "Amit.deposite(1000)\n",
    "\n",
    "print(Amit.get_balance())\n",
    "print(Amit.withdraw(9000))\n",
    "print(Amit.withdraw(2000))\n",
    "\n",
    "print(Amit.get_balance())"
   ]
  },
  {
   "cell_type": "markdown",
   "id": "f9a0ea54",
   "metadata": {},
   "source": [
    "Q3. What is abc module in python? Why is it used?\n",
    "\n",
    "Ans:  The abc module in Python stands for \"Abstract Base Classes\". It provides a way to define               abstract classes that can be used as a template for other classes.\n",
    "\n",
    "An abstract class is a class that cannot be instantiated, but serves as a blueprint for other classes to inherit from. It defines common methods and attributes that its subclasses must implement or override.\n",
    "\n",
    "The abc module provides the ABC class which is used as a base class for defining abstract classes. It also provides decorators like @abstractmethod and @abstractproperty that can be used to mark methods and properties as abstract.\n",
    "\n",
    "Using the abc module can help ensure that the classes in your code conform to a particular interface or design pattern. It can also make your code more modular and easier to maintain, since changes to the abstract class can be propagated to its subclasses.\n",
    "\n",
    "Overall, the abc module is a useful tool for creating well-structured and maintainable Python code"
   ]
  },
  {
   "cell_type": "markdown",
   "id": "6b240d0d",
   "metadata": {},
   "source": [
    "Q4. How can we achieve data abstraction?\n",
    "\n",
    "Ans: \n",
    "\n",
    "In Python, data abstraction can be achieved by defining classes with interfaces that hide their implementation details.\n",
    "\n",
    "Here are some steps to achieve data abstraction in Python:\n",
    "\n",
    "Define an abstract class or interface that specifies the required methods and properties for the class.\n",
    "Implement the abstract class by creating concrete classes that inherit from the abstract class and provide their own implementations for the required methods and properties.\n",
    "Use the concrete classes in your code, but only interact with them through the abstract class interface. This allows you to work with the class without knowing the implementation details, which are hidden behind the abstraction.\n",
    "\n"
   ]
  },
  {
   "cell_type": "code",
   "execution_count": 10,
   "id": "cdaccfec",
   "metadata": {},
   "outputs": [
    {
     "name": "stdout",
     "output_type": "stream",
     "text": [
      "25\n",
      "20\n",
      "28.26\n",
      "18.84\n"
     ]
    }
   ],
   "source": [
    "# example \n",
    "\n",
    "from abc import ABC, abstractmethod\n",
    "\n",
    "class Shape(ABC):\n",
    "    @abstractmethod\n",
    "    def area(self):\n",
    "        pass\n",
    "\n",
    "    @abstractmethod\n",
    "    def perimeter(self):\n",
    "        pass\n",
    "\n",
    "class Square(Shape):\n",
    "    def __init__(self, side):\n",
    "        self.side = side\n",
    "\n",
    "    def area(self):\n",
    "        return self.side ** 2\n",
    "\n",
    "    def perimeter(self):\n",
    "        return 4 * self.side\n",
    "\n",
    "class Circle(Shape):\n",
    "    def __init__(self, radius):\n",
    "        self.radius = radius\n",
    "\n",
    "    def area(self):\n",
    "        return 3.14 * self.radius ** 2\n",
    "\n",
    "    def perimeter(self):\n",
    "        return 2 * 3.14 * self.radius\n",
    "    \n",
    "    '''In this example, we define an abstract class Shape that specifies the \n",
    "    required methods area and perimeter. We then define two concrete classes Square \n",
    "    and Circle that inherit from Shape and provide their own implementations for these methods.\n",
    "    \n",
    "    To use the Square and Circle classes, we can create instances of them and\n",
    "interact with them through the Shape interface:'''\n",
    "    \n",
    "square = Square(5)\n",
    "print(square.area()) # Output: 25\n",
    "print(square.perimeter()) # Output: 20\n",
    "\n",
    "circle = Circle(3)\n",
    "print(circle.area()) # Output: 28.26\n",
    "print(circle.perimeter()) # Output: 18.84\n"
   ]
  },
  {
   "cell_type": "markdown",
   "id": "c07dd814",
   "metadata": {},
   "source": [
    "Q5. Can we create an instance of an abstract class? Explain your answer.\n",
    "Ans:\n",
    "\n",
    "In Python, you can define an abstract class using the \"abstract base class\" module \"abc\". An abstract class is a class that cannot be instantiated on its own, but instead serves as a template for creating subclasses. Abstract classes are used to define a common interface or behavior that is expected of all its subclasses.\n",
    "\n",
    "To create an abstract class in Python, you need to inherit from the ABC (Abstract Base Class) class and mark at least one method in the class as abstract using the \"@abstractmethod\" decorator. An abstract method is a method that has no implementation in the abstract class, but must be implemented in any concrete subclass that inherits from the abstract class."
   ]
  }
 ],
 "metadata": {
  "kernelspec": {
   "display_name": "Python 3 (ipykernel)",
   "language": "python",
   "name": "python3"
  },
  "language_info": {
   "codemirror_mode": {
    "name": "ipython",
    "version": 3
   },
   "file_extension": ".py",
   "mimetype": "text/x-python",
   "name": "python",
   "nbconvert_exporter": "python",
   "pygments_lexer": "ipython3",
   "version": "3.11.0"
  }
 },
 "nbformat": 4,
 "nbformat_minor": 5
}
